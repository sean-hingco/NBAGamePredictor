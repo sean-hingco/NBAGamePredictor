{
 "cells": [
  {
   "cell_type": "code",
   "execution_count": 1,
   "metadata": {},
   "outputs": [],
   "source": [
    "from nba_api.stats.endpoints import (\n",
    "    scoreboardv2, commonteamroster, playergamelogs,\n",
    "    boxscoretraditionalv2, boxscoreusagev3, playbyplayv2, shotchartdetail\n",
    ")\n",
    "import pandas as pd\n",
    "import time\n",
    "from datetime import datetime"
   ]
  },
  {
   "cell_type": "code",
   "execution_count": 2,
   "metadata": {},
   "outputs": [],
   "source": [
    "def get_today_games():\n",
    "    \"\"\"Fetch today's NBA games.\"\"\"\n",
    "    today_date = datetime.today().strftime('%Y%m%d')\n",
    "    scoreboard = scoreboardv2.ScoreboardV2(game_date=today_date)\n",
    "    games_df = scoreboard.get_data_frames()[0]\n",
    "    game_ids = games_df['GAME_ID'].tolist()\n",
    "    team_ids = games_df[['HOME_TEAM_ID', 'VISITOR_TEAM_ID']].values.flatten().tolist()\n",
    "    return game_ids, team_ids\n"
   ]
  },
  {
   "cell_type": "code",
   "execution_count": 3,
   "metadata": {},
   "outputs": [
    {
     "ename": "JSONDecodeError",
     "evalue": "Expecting value: line 1 column 1 (char 0)",
     "output_type": "error",
     "traceback": [
      "\u001b[0;31m---------------------------------------------------------------------------\u001b[0m",
      "\u001b[0;31mJSONDecodeError\u001b[0m                           Traceback (most recent call last)",
      "Cell \u001b[0;32mIn[3], line 1\u001b[0m\n\u001b[0;32m----> 1\u001b[0m game_ids, team_ids \u001b[39m=\u001b[39m get_today_games()\n",
      "Cell \u001b[0;32mIn[2], line 4\u001b[0m, in \u001b[0;36mget_today_games\u001b[0;34m()\u001b[0m\n\u001b[1;32m      2\u001b[0m \u001b[39m\u001b[39m\u001b[39m\"\"\"Fetch today's NBA games.\"\"\"\u001b[39;00m\n\u001b[1;32m      3\u001b[0m today_date \u001b[39m=\u001b[39m datetime\u001b[39m.\u001b[39mtoday()\u001b[39m.\u001b[39mstrftime(\u001b[39m'\u001b[39m\u001b[39m%\u001b[39m\u001b[39mY\u001b[39m\u001b[39m%\u001b[39m\u001b[39mm\u001b[39m\u001b[39m%d\u001b[39;00m\u001b[39m'\u001b[39m)\n\u001b[0;32m----> 4\u001b[0m scoreboard \u001b[39m=\u001b[39m scoreboardv2\u001b[39m.\u001b[39;49mScoreboardV2(game_date\u001b[39m=\u001b[39;49mtoday_date)\n\u001b[1;32m      5\u001b[0m games_df \u001b[39m=\u001b[39m scoreboard\u001b[39m.\u001b[39mget_data_frames()[\u001b[39m0\u001b[39m]\n\u001b[1;32m      6\u001b[0m game_ids \u001b[39m=\u001b[39m games_df[\u001b[39m'\u001b[39m\u001b[39mGAME_ID\u001b[39m\u001b[39m'\u001b[39m]\u001b[39m.\u001b[39mtolist()\n",
      "File \u001b[0;32m~/Documents/personal_proj/NBAGamePredictor/venv/lib/python3.12/site-packages/nba_api/stats/endpoints/scoreboardv2.py:159\u001b[0m, in \u001b[0;36mScoreboardV2.__init__\u001b[0;34m(self, day_offset, game_date, league_id, proxy, headers, timeout, get_request)\u001b[0m\n\u001b[1;32m    153\u001b[0m \u001b[39mself\u001b[39m\u001b[39m.\u001b[39mparameters \u001b[39m=\u001b[39m {\n\u001b[1;32m    154\u001b[0m     \u001b[39m\"\u001b[39m\u001b[39mDayOffset\u001b[39m\u001b[39m\"\u001b[39m: day_offset,\n\u001b[1;32m    155\u001b[0m     \u001b[39m\"\u001b[39m\u001b[39mGameDate\u001b[39m\u001b[39m\"\u001b[39m: game_date,\n\u001b[1;32m    156\u001b[0m     \u001b[39m\"\u001b[39m\u001b[39mLeagueID\u001b[39m\u001b[39m\"\u001b[39m: league_id,\n\u001b[1;32m    157\u001b[0m }\n\u001b[1;32m    158\u001b[0m \u001b[39mif\u001b[39;00m get_request:\n\u001b[0;32m--> 159\u001b[0m     \u001b[39mself\u001b[39;49m\u001b[39m.\u001b[39;49mget_request()\n",
      "File \u001b[0;32m~/Documents/personal_proj/NBAGamePredictor/venv/lib/python3.12/site-packages/nba_api/stats/endpoints/scoreboardv2.py:169\u001b[0m, in \u001b[0;36mScoreboardV2.get_request\u001b[0;34m(self)\u001b[0m\n\u001b[1;32m    161\u001b[0m \u001b[39mdef\u001b[39;00m\u001b[39m \u001b[39m\u001b[39mget_request\u001b[39m(\u001b[39mself\u001b[39m):\n\u001b[1;32m    162\u001b[0m     \u001b[39mself\u001b[39m\u001b[39m.\u001b[39mnba_response \u001b[39m=\u001b[39m NBAStatsHTTP()\u001b[39m.\u001b[39msend_api_request(\n\u001b[1;32m    163\u001b[0m         endpoint\u001b[39m=\u001b[39m\u001b[39mself\u001b[39m\u001b[39m.\u001b[39mendpoint,\n\u001b[1;32m    164\u001b[0m         parameters\u001b[39m=\u001b[39m\u001b[39mself\u001b[39m\u001b[39m.\u001b[39mparameters,\n\u001b[0;32m   (...)\u001b[0m\n\u001b[1;32m    167\u001b[0m         timeout\u001b[39m=\u001b[39m\u001b[39mself\u001b[39m\u001b[39m.\u001b[39mtimeout,\n\u001b[1;32m    168\u001b[0m     )\n\u001b[0;32m--> 169\u001b[0m     \u001b[39mself\u001b[39;49m\u001b[39m.\u001b[39;49mload_response()\n",
      "File \u001b[0;32m~/Documents/personal_proj/NBAGamePredictor/venv/lib/python3.12/site-packages/nba_api/stats/endpoints/scoreboardv2.py:172\u001b[0m, in \u001b[0;36mScoreboardV2.load_response\u001b[0;34m(self)\u001b[0m\n\u001b[1;32m    171\u001b[0m \u001b[39mdef\u001b[39;00m\u001b[39m \u001b[39m\u001b[39mload_response\u001b[39m(\u001b[39mself\u001b[39m):\n\u001b[0;32m--> 172\u001b[0m     data_sets \u001b[39m=\u001b[39m \u001b[39mself\u001b[39;49m\u001b[39m.\u001b[39;49mnba_response\u001b[39m.\u001b[39;49mget_data_sets()\n\u001b[1;32m    173\u001b[0m     \u001b[39mself\u001b[39m\u001b[39m.\u001b[39mdata_sets \u001b[39m=\u001b[39m [\n\u001b[1;32m    174\u001b[0m         Endpoint\u001b[39m.\u001b[39mDataSet(data\u001b[39m=\u001b[39mdata_set)\n\u001b[1;32m    175\u001b[0m         \u001b[39mfor\u001b[39;00m data_set_name, data_set \u001b[39min\u001b[39;00m data_sets\u001b[39m.\u001b[39mitems()\n\u001b[1;32m    176\u001b[0m     ]\n\u001b[1;32m    177\u001b[0m     \u001b[39mself\u001b[39m\u001b[39m.\u001b[39mavailable \u001b[39m=\u001b[39m Endpoint\u001b[39m.\u001b[39mDataSet(data\u001b[39m=\u001b[39mdata_sets[\u001b[39m\"\u001b[39m\u001b[39mAvailable\u001b[39m\u001b[39m\"\u001b[39m])\n",
      "File \u001b[0;32m~/Documents/personal_proj/NBAGamePredictor/venv/lib/python3.12/site-packages/nba_api/stats/library/http.py:122\u001b[0m, in \u001b[0;36mNBAStatsResponse.get_data_sets\u001b[0;34m(self, endpoint)\u001b[0m\n\u001b[1;32m    121\u001b[0m \u001b[39mdef\u001b[39;00m\u001b[39m \u001b[39m\u001b[39mget_data_sets\u001b[39m(\u001b[39mself\u001b[39m, endpoint\u001b[39m=\u001b[39m\u001b[39mNone\u001b[39;00m):\n\u001b[0;32m--> 122\u001b[0m     raw_dict \u001b[39m=\u001b[39m \u001b[39mself\u001b[39;49m\u001b[39m.\u001b[39;49mget_dict()\n\u001b[1;32m    124\u001b[0m     \u001b[39mif\u001b[39;00m endpoint \u001b[39mis\u001b[39;00m \u001b[39mNone\u001b[39;00m:\n\u001b[1;32m    125\u001b[0m         \u001b[39m# Process Tabular Json\u001b[39;00m\n\u001b[1;32m    126\u001b[0m         \u001b[39mif\u001b[39;00m \u001b[39m\"\u001b[39m\u001b[39mresultSets\u001b[39m\u001b[39m\"\u001b[39m \u001b[39min\u001b[39;00m raw_dict:\n",
      "File \u001b[0;32m~/Documents/personal_proj/NBAGamePredictor/venv/lib/python3.12/site-packages/nba_api/library/http.py:42\u001b[0m, in \u001b[0;36mNBAResponse.get_dict\u001b[0;34m(self)\u001b[0m\n\u001b[1;32m     41\u001b[0m \u001b[39mdef\u001b[39;00m\u001b[39m \u001b[39m\u001b[39mget_dict\u001b[39m(\u001b[39mself\u001b[39m):\n\u001b[0;32m---> 42\u001b[0m     \u001b[39mreturn\u001b[39;00m json\u001b[39m.\u001b[39;49mloads(\u001b[39mself\u001b[39;49m\u001b[39m.\u001b[39;49m_response)\n",
      "File \u001b[0;32m/Library/Frameworks/Python.framework/Versions/3.12/lib/python3.12/json/__init__.py:346\u001b[0m, in \u001b[0;36mloads\u001b[0;34m(s, cls, object_hook, parse_float, parse_int, parse_constant, object_pairs_hook, **kw)\u001b[0m\n\u001b[1;32m    341\u001b[0m     s \u001b[39m=\u001b[39m s\u001b[39m.\u001b[39mdecode(detect_encoding(s), \u001b[39m'\u001b[39m\u001b[39msurrogatepass\u001b[39m\u001b[39m'\u001b[39m)\n\u001b[1;32m    343\u001b[0m \u001b[39mif\u001b[39;00m (\u001b[39mcls\u001b[39m \u001b[39mis\u001b[39;00m \u001b[39mNone\u001b[39;00m \u001b[39mand\u001b[39;00m object_hook \u001b[39mis\u001b[39;00m \u001b[39mNone\u001b[39;00m \u001b[39mand\u001b[39;00m\n\u001b[1;32m    344\u001b[0m         parse_int \u001b[39mis\u001b[39;00m \u001b[39mNone\u001b[39;00m \u001b[39mand\u001b[39;00m parse_float \u001b[39mis\u001b[39;00m \u001b[39mNone\u001b[39;00m \u001b[39mand\u001b[39;00m\n\u001b[1;32m    345\u001b[0m         parse_constant \u001b[39mis\u001b[39;00m \u001b[39mNone\u001b[39;00m \u001b[39mand\u001b[39;00m object_pairs_hook \u001b[39mis\u001b[39;00m \u001b[39mNone\u001b[39;00m \u001b[39mand\u001b[39;00m \u001b[39mnot\u001b[39;00m kw):\n\u001b[0;32m--> 346\u001b[0m     \u001b[39mreturn\u001b[39;00m _default_decoder\u001b[39m.\u001b[39;49mdecode(s)\n\u001b[1;32m    347\u001b[0m \u001b[39mif\u001b[39;00m \u001b[39mcls\u001b[39m \u001b[39mis\u001b[39;00m \u001b[39mNone\u001b[39;00m:\n\u001b[1;32m    348\u001b[0m     \u001b[39mcls\u001b[39m \u001b[39m=\u001b[39m JSONDecoder\n",
      "File \u001b[0;32m/Library/Frameworks/Python.framework/Versions/3.12/lib/python3.12/json/decoder.py:338\u001b[0m, in \u001b[0;36mJSONDecoder.decode\u001b[0;34m(self, s, _w)\u001b[0m\n\u001b[1;32m    333\u001b[0m \u001b[39mdef\u001b[39;00m\u001b[39m \u001b[39m\u001b[39mdecode\u001b[39m(\u001b[39mself\u001b[39m, s, _w\u001b[39m=\u001b[39mWHITESPACE\u001b[39m.\u001b[39mmatch):\n\u001b[1;32m    334\u001b[0m \u001b[39m    \u001b[39m\u001b[39m\"\"\"Return the Python representation of ``s`` (a ``str`` instance\u001b[39;00m\n\u001b[1;32m    335\u001b[0m \u001b[39m    containing a JSON document).\u001b[39;00m\n\u001b[1;32m    336\u001b[0m \n\u001b[1;32m    337\u001b[0m \u001b[39m    \"\"\"\u001b[39;00m\n\u001b[0;32m--> 338\u001b[0m     obj, end \u001b[39m=\u001b[39m \u001b[39mself\u001b[39;49m\u001b[39m.\u001b[39;49mraw_decode(s, idx\u001b[39m=\u001b[39;49m_w(s, \u001b[39m0\u001b[39;49m)\u001b[39m.\u001b[39;49mend())\n\u001b[1;32m    339\u001b[0m     end \u001b[39m=\u001b[39m _w(s, end)\u001b[39m.\u001b[39mend()\n\u001b[1;32m    340\u001b[0m     \u001b[39mif\u001b[39;00m end \u001b[39m!=\u001b[39m \u001b[39mlen\u001b[39m(s):\n",
      "File \u001b[0;32m/Library/Frameworks/Python.framework/Versions/3.12/lib/python3.12/json/decoder.py:356\u001b[0m, in \u001b[0;36mJSONDecoder.raw_decode\u001b[0;34m(self, s, idx)\u001b[0m\n\u001b[1;32m    354\u001b[0m     obj, end \u001b[39m=\u001b[39m \u001b[39mself\u001b[39m\u001b[39m.\u001b[39mscan_once(s, idx)\n\u001b[1;32m    355\u001b[0m \u001b[39mexcept\u001b[39;00m \u001b[39mStopIteration\u001b[39;00m \u001b[39mas\u001b[39;00m err:\n\u001b[0;32m--> 356\u001b[0m     \u001b[39mraise\u001b[39;00m JSONDecodeError(\u001b[39m\"\u001b[39m\u001b[39mExpecting value\u001b[39m\u001b[39m\"\u001b[39m, s, err\u001b[39m.\u001b[39mvalue) \u001b[39mfrom\u001b[39;00m\u001b[39m \u001b[39m\u001b[39mNone\u001b[39;00m\n\u001b[1;32m    357\u001b[0m \u001b[39mreturn\u001b[39;00m obj, end\n",
      "\u001b[0;31mJSONDecodeError\u001b[0m: Expecting value: line 1 column 1 (char 0)"
     ]
    }
   ],
   "source": [
    "game_ids, team_ids = get_today_games()"
   ]
  },
  {
   "cell_type": "code",
   "execution_count": null,
   "metadata": {},
   "outputs": [],
   "source": []
  }
 ],
 "metadata": {
  "kernelspec": {
   "display_name": "venv",
   "language": "python",
   "name": "python3"
  },
  "language_info": {
   "codemirror_mode": {
    "name": "ipython",
    "version": 3
   },
   "file_extension": ".py",
   "mimetype": "text/x-python",
   "name": "python",
   "nbconvert_exporter": "python",
   "pygments_lexer": "ipython3",
   "version": "3.12.8"
  },
  "orig_nbformat": 4,
  "vscode": {
   "interpreter": {
    "hash": "a5c6cb4277ec468c2c228e106ed54cc48cc7e8b0228653af71b8b38ee268f56e"
   }
  }
 },
 "nbformat": 4,
 "nbformat_minor": 2
}
